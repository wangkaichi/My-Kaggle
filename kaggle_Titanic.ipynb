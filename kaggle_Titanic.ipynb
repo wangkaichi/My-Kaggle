{
 "cells": [
  {
   "cell_type": "code",
   "execution_count": null,
   "id": "1ff160cd",
   "metadata": {},
   "outputs": [],
   "source": [
    "# This Python 3 environment comes with many helpful analytics libraries installed\n",
    "# It is defined by the kaggle/python Docker image: https://github.com/kaggle/docker-python\n",
    "# For example, here's several helpful packages to load\n",
    "\n",
    "import numpy as np # linear algebra\n",
    "import pandas as pd # data processing, CSV file I/O (e.g. pd.read_csv)\n",
    "\n",
    "# Input data files are available in the read-only \"../input/\" directory\n",
    "# For example, running this (by clicking run or pressing Shift+Enter) will list all files under the input directory\n",
    "\n",
    "import os\n",
    "for dirname, _, filenames in os.walk('/kaggle/input'):\n",
    "    for filename in filenames:\n",
    "        print(os.path.join(dirname, filename))\n",
    "\n",
    "# You can write up to 20GB to the current directory (/kaggle/working/) that gets preserved as output when you create a version using \"Save & Run All\" \n",
    "# You can also write temporary files to /kaggle/temp/, but they won't be saved outside of the current session"
   ]
  },
  {
   "cell_type": "code",
   "execution_count": null,
   "id": "5828416c",
   "metadata": {},
   "outputs": [],
   "source": [
    "# read data\n",
    "\n",
    "train_df = pd.read_csv(\"/kaggle/input/titanic/train.csv\")\n",
    "test_df = pd.read_csv(\"/kaggle/input/titanic/test.csv\")\n",
    "gender_submission = pd.read_csv(\"/kaggle/input/titanic/gender_submission.csv\")"
   ]
  },
  {
   "cell_type": "code",
   "execution_count": null,
   "id": "bf9dd9ff",
   "metadata": {},
   "outputs": [],
   "source": [
    "train_df.head()"
   ]
  },
  {
   "cell_type": "code",
   "execution_count": null,
   "id": "11f5db4d",
   "metadata": {},
   "outputs": [],
   "source": [
    "train_df.describe()"
   ]
  },
  {
   "cell_type": "code",
   "execution_count": null,
   "id": "9907d63a",
   "metadata": {},
   "outputs": [],
   "source": [
    "train_df.dtypes"
   ]
  },
  {
   "cell_type": "code",
   "execution_count": null,
   "id": "ab449e01",
   "metadata": {},
   "outputs": [],
   "source": [
    "train_df.describe(include=[\"object\"])"
   ]
  },
  {
   "cell_type": "code",
   "execution_count": null,
   "id": "387f8513",
   "metadata": {},
   "outputs": [],
   "source": [
    "train_df.Sex.replace([\"male\", \"female\"], [0, 1])\n",
    "\n",
    "train_df[\"Sex\"] = train_df.Sex.replace([\"male\", \"female\"], [0, 1])\n",
    "\n",
    "train_df"
   ]
  },
  {
   "cell_type": "code",
   "execution_count": null,
   "id": "59186ee9",
   "metadata": {},
   "outputs": [],
   "source": [
    "# fill the NA in Age with mean value\n",
    "\n",
    "train_df[\"Age\"] = train_df.Age.fillna(29.6)\n",
    "\n",
    "train_df.tail()"
   ]
  },
  {
   "cell_type": "code",
   "execution_count": null,
   "id": "8a17aead",
   "metadata": {},
   "outputs": [],
   "source": [
    "train_df.corr()"
   ]
  },
  {
   "cell_type": "code",
   "execution_count": null,
   "id": "ff8f3d86",
   "metadata": {},
   "outputs": [],
   "source": [
    "Y = train_df[\"Survived\"]\n",
    "\n",
    "features_in_model = [\"Pclass\",\"Sex\",\"Age\"]\n",
    "X = train_df[features_in_model]\n",
    "\n",
    "X"
   ]
  },
  {
   "cell_type": "code",
   "execution_count": null,
   "id": "63b51cd2",
   "metadata": {},
   "outputs": [],
   "source": [
    "# Scikit-learn \n",
    "from sklearn.linear_model import LogisticRegression\n",
    "\n",
    "lr_model = LogisticRegression()\n",
    "\n",
    "lr_model.fit(X, Y)\n",
    "\n",
    "lr_model.score(X, Y)"
   ]
  },
  {
   "cell_type": "code",
   "execution_count": null,
   "id": "1f5f73e9",
   "metadata": {},
   "outputs": [],
   "source": [
    "features_in_model = [\"Pclass\",\"Sex\",\"Age\"]\n",
    "test_df[\"Sex\"] = test_df.Sex.replace([\"male\", \"female\"], [0, 1])\n",
    "test_df[\"Age\"] = test_df.Age.fillna(29.6)\n",
    "X_test = test_df[features_in_model]\n",
    "\n",
    "X_test"
   ]
  },
  {
   "cell_type": "code",
   "execution_count": null,
   "id": "424534e4",
   "metadata": {},
   "outputs": [],
   "source": [
    "gender_submission[\"Survived\"] = lr_model.predict(X_test)\n",
    "gender_submission"
   ]
  },
  {
   "cell_type": "code",
   "execution_count": null,
   "id": "bdecac26",
   "metadata": {},
   "outputs": [],
   "source": [
    "# save as csv\n",
    "\n",
    "gender_submission.to_csv(\"/kaggle/working/submission.csv\", index=False)"
   ]
  },
  {
   "cell_type": "code",
   "execution_count": null,
   "id": "b5677f18",
   "metadata": {},
   "outputs": [],
   "source": [
    "# MORE"
   ]
  },
  {
   "cell_type": "code",
   "execution_count": null,
   "id": "2021c1a8",
   "metadata": {},
   "outputs": [],
   "source": [
    "from sklearn.tree import DecisionTreeClassifier\n",
    "\n",
    "tree_model = DecisionTreeClassifier()\n",
    "\n",
    "tree_model.fit(X, Y)\n",
    "\n",
    "tree_model.score(X, Y)"
   ]
  },
  {
   "cell_type": "code",
   "execution_count": null,
   "id": "4f615757",
   "metadata": {},
   "outputs": [],
   "source": [
    "gender_submission[\"Survived\"] = tree_model.predict(X_test)\n",
    "gender_submission"
   ]
  }
 ],
 "metadata": {
  "kernelspec": {
   "display_name": "Python 3 (ipykernel)",
   "language": "python",
   "name": "python3"
  },
  "language_info": {
   "codemirror_mode": {
    "name": "ipython",
    "version": 3
   },
   "file_extension": ".py",
   "mimetype": "text/x-python",
   "name": "python",
   "nbconvert_exporter": "python",
   "pygments_lexer": "ipython3",
   "version": "3.9.15"
  }
 },
 "nbformat": 4,
 "nbformat_minor": 5
}
